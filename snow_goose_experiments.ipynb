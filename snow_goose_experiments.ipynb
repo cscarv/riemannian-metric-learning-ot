{
 "cells": [
  {
   "cell_type": "code",
   "execution_count": null,
   "metadata": {},
   "outputs": [],
   "source": [
    "import sys, os\n",
    "sys.path.append(os.path.join(sys.path[0], \"code\"))"
   ]
  },
  {
   "cell_type": "code",
   "execution_count": null,
   "metadata": {},
   "outputs": [],
   "source": [
    "# Run this cell only if \"from mpl_toolkits.basemap import Basemap\" causes KeyError: 'PROJ_LIB'\n",
    "\n",
    "conda_dir = \"/home/USERNAME/anaconda3/envs/sinkhorn_cnf\" # replace with conda environment path\n",
    "proj_lib = os.path.join(conda_dir, 'bin/proj')\n",
    "os.environ[\"PROJ_LIB\"] = proj_lib"
   ]
  },
  {
   "cell_type": "code",
   "execution_count": null,
   "metadata": {},
   "outputs": [],
   "source": [
    "import pytorch_models as models\n",
    "import pytorch_samplers as samplers\n",
    "import pytorch_losses as losses\n",
    "import pytorch_training as training\n",
    "import pytorch_utils as utils\n",
    "import geodesics\n",
    "\n",
    "import importlib\n",
    "import time\n",
    "import matplotlib.pyplot as plt\n",
    "from matplotlib import cm, colors\n",
    "from mpl_toolkits.basemap import Basemap\n",
    "import torch\n",
    "import torch.nn as nn\n",
    "import torch.nn.functional as F\n",
    "from statistics import mean\n",
    "from torchdiffeq import odeint\n",
    "import random\n",
    "import numpy as np\n",
    "from dtaidistance import dtw_ndim\n",
    "\n",
    "importlib.reload(models)\n",
    "importlib.reload(losses)\n",
    "importlib.reload(samplers)\n",
    "importlib.reload(training)\n",
    "importlib.reload(utils)\n",
    "importlib.reload(geodesics)"
   ]
  },
  {
   "cell_type": "code",
   "execution_count": null,
   "metadata": {},
   "outputs": [],
   "source": [
    "torch.set_default_dtype(torch.float64)\n",
    "device = torch.device(\"cuda:0\" if torch.cuda.is_available() else \"cpu\")"
   ]
  },
  {
   "cell_type": "code",
   "execution_count": null,
   "metadata": {},
   "outputs": [],
   "source": [
    "# Import eBird data\n",
    "\n",
    "data_file = 'data/snow_goose/ebird_snow_goose_data_basemap.npy'\n",
    "data_array = np.load(data_file, allow_pickle=True)\n",
    "data_list = list(data_array)"
   ]
  },
  {
   "cell_type": "code",
   "execution_count": null,
   "metadata": {},
   "outputs": [],
   "source": [
    "start_month = 0\n",
    "end_month = 6\n",
    "data_list_spring = data_list[start_month:end_month]"
   ]
  },
  {
   "cell_type": "code",
   "execution_count": null,
   "metadata": {},
   "outputs": [],
   "source": [
    "# Learn metric tensor from eBird data\n",
    "\n",
    "seed = 0\n",
    "n_samples = 500\n",
    "space_dims = 2\n",
    "scalar_hidden_dims = 32\n",
    "matrix_hidden_dims = 32\n",
    "gp_strength_phi = 1e-6\n",
    "gp_strength_R = 1e0\n",
    "fro_reg_strength = 1e9\n",
    "identity_reg_strength = 0\n",
    "lr = 1e-2\n",
    "weight_decay = 1e-3\n",
    "n_epochs_phi = 2000\n",
    "n_epochs_R = 10000\n",
    "R_model_type = \"multilayer\"\n",
    "\n",
    "t0 = time.time()\n",
    "ebird_learnedA, phi_list, rho_0_list, rho_1_list = training.twostep_train_wot_model(data_list_spring,\n",
    "                                                                                    n_samples,\n",
    "                                                                                    scalar_hidden_dims,\n",
    "                                                                                    matrix_hidden_dims,\n",
    "                                                                                    fro_reg_strength,\n",
    "                                                                                    identity_reg_strength,\n",
    "                                                                                    gp_strength_phi,\n",
    "                                                                                    gp_strength_R,\n",
    "                                                                                    lr,\n",
    "                                                                                    weight_decay,\n",
    "                                                                                    n_epochs_phi,\n",
    "                                                                                    n_epochs_R,\n",
    "                                                                                    seed,\n",
    "                                                                                    R_model_type\n",
    "                                                                                   )\n",
    "\n",
    "t1 = time.time()\n",
    "print('elapsed time: ' + str(t1-t0) + ' s.')\n",
    "\n",
    "# Plot eigenvectors of metric\n",
    "plt.figure(figsize=(20,20))\n",
    "# Eigs plot params\n",
    "x_lims = (0,12)\n",
    "y_lims = (0,12)\n",
    "n = 30\n",
    "utils.eigs_quiver(ebird_learnedA, n, x_lims, y_lims)\n",
    "for t in range(len(data_list_spring)):\n",
    "    plt.scatter(data_list_spring[t][:,0], data_list_spring[t][:,1])"
   ]
  },
  {
   "cell_type": "code",
   "execution_count": null,
   "metadata": {},
   "outputs": [],
   "source": [
    "# Save the learned metric\n",
    "\n",
    "ebird_learnedA_path = \"trained_models/ebird_learnedA_params.pt\"\n",
    "torch.save(ebird_learnedA.state_dict(), ebird_learnedA_path)"
   ]
  },
  {
   "cell_type": "code",
   "execution_count": null,
   "metadata": {},
   "outputs": [],
   "source": [
    "# Load pretrained metric\n",
    "\n",
    "ebird_learnedA_path = \"trained_models/ebird_learnedA_params.pt\"\n",
    "space_dims = 2\n",
    "matrix_hidden_dims = 32\n",
    "ebird_learnedA = models.PSDMatrixMultiLayer(space_dims, matrix_hidden_dims).to(device)\n",
    "ebird_learnedA.load_state_dict(torch.load(ebird_learnedA_path))"
   ]
  },
  {
   "cell_type": "code",
   "execution_count": null,
   "metadata": {},
   "outputs": [],
   "source": [
    "# Carry out trajectory inference for each snow goose in Banks Island SNGO study\n",
    "\n",
    "goose_id_list = [82901, 82902, 82905, 82906, 82907, 82908, 82909, 82910]\n",
    "t_inits = [20000, 0, 0, 20000, 0, 0, 0, 0]\n",
    "t_finals = [26000, 9100, 15057, 26500, 9000, 13037, 7200, 10000]\n",
    "lambds = [5e1, 5e1, 1e2, 5e1, 1e2, 5e1, 5e1, 1e2]\n",
    "lambds = [2.5e0*x for x in lambds]\n",
    "\n",
    "for i, goose_id in enumerate(goose_id_list):\n",
    "    fname = \"data/snow_goose/movebank_goose_data_basemap_\" + str(goose_id) + \".npy\"\n",
    "    true_path = np.load(fname, allow_pickle=True)\n",
    "    t_init = t_inits[i]\n",
    "    t_final = t_finals[i]\n",
    "    \n",
    "    x_0 = torch.from_numpy(true_path[t_init]).to(device)\n",
    "    x_1 = torch.from_numpy(true_path[t_final]).to(device)\n",
    "    n_times = 32\n",
    "    t = torch.linspace(0, 1, n_times, device=device)\n",
    "    lambd = lambds[i]\n",
    "    x_t, losses = geodesics.compute_A_geodesic(x_0, x_1, ebird_learnedA, t, lambd)\n",
    "    # Save the trajectory x_t\n",
    "    fname = \"results/snow_goose_experiments/final_goose_inferred_traj_2197-\" + str(goose_id) + \".npy\"\n",
    "    np.save(fname, x_t.detach().cpu().numpy())"
   ]
  },
  {
   "cell_type": "code",
   "execution_count": null,
   "metadata": {},
   "outputs": [],
   "source": [
    "# Generate straight-line trajectories as naive baseline\n",
    "\n",
    "straight_line_paths = []\n",
    "\n",
    "# Load each ground truth trajectory and generate straight-line path with 32 points\n",
    "goose_id_list = [82901, 82902, 82905, 82906, 82907, 82908, 82909, 82910]\n",
    "t_inits = [20000, 0, 0, 20000, 0, 0, 0, 0]\n",
    "t_finals = [26000, 9100, 15057, 26500, 9000, 13037, 7201, 10000]\n",
    "for i, goose_id in enumerate(goose_id_list):\n",
    "    fname = \"data/snow_goose/movebank_goose_data_basemap_\" + str(goose_id) + \".npy\"\n",
    "    true_path = np.load(fname, allow_pickle=True)\n",
    "    t_init = t_inits[i]\n",
    "    t_final = t_finals[i] - 1\n",
    "    n_times = 32\n",
    "    t = torch.unsqueeze(torch.linspace(0, 1, n_times), dim=1)\n",
    "    init_pt = true_path[t_init]\n",
    "    final_pt = true_path[t_final]\n",
    "    straight_path = t*final_pt + (1-t)*init_pt\n",
    "    straight_line_paths.append(straight_path.numpy())"
   ]
  },
  {
   "cell_type": "code",
   "execution_count": null,
   "metadata": {},
   "outputs": [],
   "source": [
    "# Plot the ground truth trajectories on LHS and inferred trajectories on RHS\n",
    "\n",
    "fig = plt.figure(figsize=(30,20))\n",
    "ax1 = fig.add_subplot(1,2,1)\n",
    "ax2 = fig.add_subplot(1,2,2)\n",
    "fig.tight_layout()\n",
    "\n",
    "llcrnrlat = 22\n",
    "llcrnrlon = -172\n",
    "urcrnrlat = 75\n",
    "urcrnrlon = -90\n",
    "\n",
    "m = Basemap(projection='merc',llcrnrlat=llcrnrlat,urcrnrlat=urcrnrlat,\n",
    "            llcrnrlon=llcrnrlon,urcrnrlon=urcrnrlon, suppress_ticks=True, rsphere=5, resolution='l')\n",
    "\n",
    "# Draw map outline\n",
    "m.drawcoastlines(ax=ax1, color='gray')\n",
    "m.drawcoastlines(ax=ax2, color='gray')\n",
    "\n",
    "ground_truth_paths = []\n",
    "our_paths = []\n",
    "\n",
    "# Now load each ground truth trajectory and plot on LHS\n",
    "goose_id_list = [82901, 82902, 82905, 82906, 82907, 82908, 82909, 82910]\n",
    "t_inits = [20000, 0, 0, 20000, 0, 0, 0, 0]\n",
    "t_finals = [26000, 9100, 15057, 26500, 9000, 13037, 7201, 10000]\n",
    "for i, goose_id in enumerate(goose_id_list):\n",
    "    fname = \"data/snow_goose/movebank_goose_data_basemap_\" + str(goose_id) + \".npy\"\n",
    "    true_path = np.load(fname, allow_pickle=True)\n",
    "    t_init = t_inits[i]\n",
    "    t_final = t_finals[i]\n",
    "    ground_truth_paths.append(true_path[t_init:t_final])\n",
    "    x = true_path[t_init:t_final,0]\n",
    "    y = true_path[t_init:t_final,1]\n",
    "    ax1.scatter(x[::5], y[::5], marker=\"o\", s=100)\n",
    "    \n",
    "# Now load each inferred trajectory and plot on RHS\n",
    "goose_id_list = [82901, 82902, 82905, 82906, 82907, 82908, 82909, 82910]\n",
    "for i, goose_id in enumerate(goose_id_list):\n",
    "    fname = \"results/snow_goose_experiments/final_goose_inferred_traj_2197-\" + str(goose_id) + \".npy\"\n",
    "    inferred_path = np.load(fname, allow_pickle=True)\n",
    "    our_paths.append(inferred_path)\n",
    "    ax2.scatter(inferred_path[:,0], inferred_path[:,1], marker=\"o\", s=100)\n",
    "\n",
    "ax1.set_title(\"Ground truth\", fontsize=50, fontweight=\"bold\")\n",
    "ax2.set_title(\"Ours\", fontsize=50, fontweight=\"bold\")\n",
    "\n",
    "# Save figure\n",
    "plt.savefig(\"results/sngo_traj_plots_horizontal.png\", dpi=300, bbox_inches=\"tight\")"
   ]
  },
  {
   "cell_type": "code",
   "execution_count": null,
   "metadata": {},
   "outputs": [],
   "source": [
    "# Compute DTW distances between straight paths and ground truth\n",
    "\n",
    "baseline_dtw = []\n",
    "\n",
    "for i in range(len(ground_truth_paths)):\n",
    "    true_path = ground_truth_paths[i]\n",
    "    straight_path = straight_line_paths[i]\n",
    "    baseline_dtw.append(dtw_ndim.distance(true_path, straight_path))"
   ]
  },
  {
   "cell_type": "code",
   "execution_count": null,
   "metadata": {},
   "outputs": [],
   "source": [
    "# Compute DTW distances between our paths and ground truth\n",
    "\n",
    "our_dtw = []\n",
    "\n",
    "for i in range(len(ground_truth_paths)):\n",
    "    true_path = ground_truth_paths[i]\n",
    "    our_path = our_paths[i]\n",
    "    our_dtw.append(dtw_ndim.distance(true_path, our_path))"
   ]
  },
  {
   "cell_type": "code",
   "execution_count": null,
   "metadata": {},
   "outputs": [],
   "source": [
    "baseline_dtw"
   ]
  },
  {
   "cell_type": "code",
   "execution_count": null,
   "metadata": {},
   "outputs": [],
   "source": [
    "our_dtw"
   ]
  },
  {
   "cell_type": "code",
   "execution_count": null,
   "metadata": {},
   "outputs": [],
   "source": [
    "base_mean = sum(baseline_dtw)/len(baseline_dtw)\n",
    "our_mean = sum(our_dtw)/len(our_dtw)\n",
    "(base_mean - our_mean)/base_mean"
   ]
  }
 ],
 "metadata": {
  "kernelspec": {
   "display_name": "Python [conda env:labb]",
   "language": "python",
   "name": "conda-env-labb-py"
  },
  "language_info": {
   "codemirror_mode": {
    "name": "ipython",
    "version": 3
   },
   "file_extension": ".py",
   "mimetype": "text/x-python",
   "name": "python",
   "nbconvert_exporter": "python",
   "pygments_lexer": "ipython3",
   "version": "3.9.6"
  }
 },
 "nbformat": 4,
 "nbformat_minor": 5
}
